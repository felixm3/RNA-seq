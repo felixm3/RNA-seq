{
 "cells": [
  {
   "cell_type": "markdown",
   "id": "882500c5-a0dc-45ec-85fe-f8e9404fc7ab",
   "metadata": {},
   "source": [
    "# Processing and Analysis of RNA-seq Data of Aging of Hematopoietic Stem Cells"
   ]
  },
  {
   "cell_type": "markdown",
   "id": "6565df68-e527-4dac-bc80-ae0eef6dfc39",
   "metadata": {},
   "source": [
    "Here I compare gene expression in hematopoietic stem cells extracted from 10-week-old mice ('young') vs 20-month-old mice ('aged').\n",
    "\n",
    "[The data](https://www.ncbi.nlm.nih.gov/geo/query/acc.cgi?acc=GSE162607) is from NCBI's Gene Expression Omnibus (GEO) repository. "
   ]
  },
  {
   "cell_type": "markdown",
   "id": "aa8158c7-6af8-45cd-9f85-c137a8933a02",
   "metadata": {},
   "source": [
    "## download and process reference transcriptome and genome for Salmon"
   ]
  },
  {
   "cell_type": "code",
   "execution_count": 3,
   "id": "a9df71a9-fbe0-4c16-bcad-0f85e621b182",
   "metadata": {},
   "outputs": [
    {
     "name": "stdout",
     "output_type": "stream",
     "text": [
      "--2023-11-09 09:09:23--  https://ftp.ebi.ac.uk/pub/databases/gencode/Gencode_mouse/release_M32/gencode.vM32.transcripts.fa.gz\n",
      "Resolving ftp.ebi.ac.uk (ftp.ebi.ac.uk)... 193.62.193.165\n",
      "Connecting to ftp.ebi.ac.uk (ftp.ebi.ac.uk)|193.62.193.165|:443... connected.\n",
      "HTTP request sent, awaiting response... 200 OK\n",
      "Length: 56246898 (54M) [application/x-gzip]\n",
      "Saving to: ‘ref_fasta/gencode.vM32.transcripts.fa.gz’\n",
      "\n",
      "100%[======================================>] 56,246,898   174KB/s   in 2m 49s \n",
      "\n",
      "2023-11-09 09:12:12 (326 KB/s) - ‘ref_fasta/gencode.vM32.transcripts.fa.gz’ saved [56246898/56246898]\n",
      "\n"
     ]
    }
   ],
   "source": [
    "# download mouse reference transcriptome from gencode\n",
    "!wget \\\n",
    "    -P ref_fasta \\\n",
    "    https://ftp.ebi.ac.uk/pub/databases/gencode/Gencode_mouse/release_M32/gencode.vM32.transcripts.fa.gz"
   ]
  },
  {
   "cell_type": "code",
   "execution_count": 4,
   "id": "8a25e491-f545-45d8-92ed-56e24f62012f",
   "metadata": {},
   "outputs": [
    {
     "name": "stdout",
     "output_type": "stream",
     "text": [
      "--2023-11-09 09:13:48--  https://ftp.ebi.ac.uk/pub/databases/gencode/Gencode_mouse/release_M32/GRCm39.primary_assembly.genome.fa.gz\n",
      "Resolving ftp.ebi.ac.uk (ftp.ebi.ac.uk)... 193.62.193.165\n",
      "Connecting to ftp.ebi.ac.uk (ftp.ebi.ac.uk)|193.62.193.165|:443... connected.\n",
      "HTTP request sent, awaiting response... 200 OK\n",
      "Length: 773873008 (738M) [application/x-gzip]\n",
      "Saving to: ‘ref_fasta/GRCm39.primary_assembly.genome.fa.gz’\n",
      "\n",
      "100%[======================================>] 773,873,008  276KB/s   in 40m 15s\n",
      "\n",
      "2023-11-09 09:54:04 (313 KB/s) - ‘ref_fasta/GRCm39.primary_assembly.genome.fa.gz’ saved [773873008/773873008]\n",
      "\n"
     ]
    }
   ],
   "source": [
    "# download mouse reference genome from gencode\n",
    "!wget \\\n",
    "    -P ref_fasta \\\n",
    "    https://ftp.ebi.ac.uk/pub/databases/gencode/Gencode_mouse/release_M32/GRCm39.primary_assembly.genome.fa.gz"
   ]
  },
  {
   "cell_type": "code",
   "execution_count": 6,
   "id": "075c2d1e-81f5-418a-a169-6ed3db143ef7",
   "metadata": {},
   "outputs": [],
   "source": [
    "%%bash\n",
    "# create decoy file\n",
    "grep \"^>\" <(zcat ref_fasta/GRCm39.primary_assembly.genome.fa.gz) | cut -d \" \" -f 1 > ref_fasta/decoys.txt\n",
    "sed -i -e 's/>//g' ref_fasta/decoys.txt"
   ]
  },
  {
   "cell_type": "code",
   "execution_count": 7,
   "id": "8e0bc587-136c-4934-8a75-11324f33c943",
   "metadata": {},
   "outputs": [],
   "source": [
    "%%bash\n",
    "# create gentrome\n",
    "cat ref_fasta/gencode.vM32.transcripts.fa.gz ref_fasta/GRCm39.primary_assembly.genome.fa.gz > ref_fasta/gentrome.fa.gz"
   ]
  },
  {
   "cell_type": "markdown",
   "id": "b120fdc2-2250-411c-b434-b1f44088cc1c",
   "metadata": {},
   "source": [
    "## quantification using Salmon of the 4 samples in NextFlow"
   ]
  },
  {
   "cell_type": "code",
   "execution_count": 2,
   "id": "eac1994a-c01b-45a9-b9d4-c4b956dd3bae",
   "metadata": {},
   "outputs": [
    {
     "name": "stdout",
     "output_type": "stream",
     "text": [
      "#!/usr/bin/env nextflow\n",
      "\n",
      "nextflow.enable.dsl=2\n",
      "\n",
      "params.reads = \"$baseDir/00_fastq_raw/*.fq\"\n",
      "params.outdir = \"$baseDir/results\"\n",
      "params.gentrome = \"$baseDir/ref_fasta/gentrome.fa.gz\"\n",
      "params.decoys = \"$baseDir/ref_fasta/decoys.txt\"\n",
      "\n",
      "log.info \"\"\"\\\n",
      " R N A S E Q - N F   P I P E L I N E\n",
      " ===================================\n",
      " gentrome     : ${params.gentrome}\n",
      " reads        : ${params.reads}\n",
      " outdir       : ${params.outdir}\n",
      " \"\"\"\n",
      "\n",
      "process FASTQC {\n",
      "    tag \"FASTQC on $sample_id\"\n",
      "    conda 'bioconda::fastqc=0.12.1'\n",
      "    publishDir \"$params.outdir/01_fastq_raw_FastQC/\", mode:'copy'\n",
      "\n",
      "    cpus 2\n",
      "\n",
      "    input:\n",
      "    tuple val(sample_id), path(reads)\n",
      "\n",
      "    output:\n",
      "    path \"fastqc_${sample_id}\" \n",
      "\n",
      "    script:\n",
      "    \"\"\"\n",
      "    mkdir -p fastqc_${sample_id}\n",
      "    fastqc \\\\\n",
      "        -t ${task.cpus} \\\\\n",
      "        -o fastqc_${sample_id} \\\\\n",
      "        ${reads}\n",
      "    \"\"\"\n",
      "}\n",
      "\n",
      "process INDEX {\n",
      "    tag \"$gentrome.simpleName\"\n",
      "    conda 'bioconda::salmon=1.10.2'\n",
      "\n",
      "    cpus 28\n",
      "\n",
      "    input:\n",
      "    path gentrome \n",
      "    path decoys\n",
      "\n",
      "    output:\n",
      "    path 'index' \n",
      "\n",
      "    script:\n",
      "    \"\"\"\n",
      "    salmon index \\\\\n",
      "        --threads $task.cpus \\\\\n",
      "        --gencode \\\\\n",
      "        -t $gentrome \\\\\n",
      "        -d $decoys \\\\\n",
      "        -i index\n",
      "    \"\"\"\n",
      "}\n",
      "\n",
      "process TRIMGALORE {\n",
      "    tag \"TRIMGALORE on $sample_id\"\n",
      "    conda \"bioconda::trim-galore=0.6.10\"\n",
      "    publishDir \"$params.outdir/02_fastq_trimmed/\", mode:'copy'\n",
      "\n",
      "    cpus 12\n",
      "\n",
      "    input:\n",
      "    tuple val(sample_id), path(reads) \n",
      "\n",
      "    output:\n",
      "    tuple val(sample_id), path(\"trimgalore_${sample_id}/${sample_id}_trimmed.fq\")\n",
      "\n",
      "    script:\n",
      "    \"\"\"\n",
      "    trim_galore \\\\\n",
      "            --fastqc \\\\\n",
      "            --cores 8 \\\\\n",
      "            --output_dir trimgalore_${sample_id} \\\\\n",
      "            ${reads}\n",
      "    \"\"\"\n",
      "}\n",
      "\n",
      "process QUANT {\n",
      "    tag \"QUANT on $sample_id\"\n",
      "    conda 'bioconda::salmon=1.10.2'\n",
      "    publishDir \"$params.outdir/03_salmon_quant/\", mode:'copy'\n",
      "\n",
      "    cpus 28\n",
      "\n",
      "    input:\n",
      "    path index \n",
      "    tuple val(sample_id), path(reads) \n",
      "\n",
      "    output:\n",
      "    path \"quant_${sample_id}\"\n",
      "\n",
      "    script:\n",
      "    \"\"\"\n",
      "    salmon quant \\\\\n",
      "        --threads $task.cpus \\\\\n",
      "        --libType A \\\\\n",
      "        -i $index \\\\\n",
      "        --validateMappings \\\\\n",
      "        --gcBias \\\\\n",
      "        --numGibbsSamples 20 \\\\\n",
      "        -r ${reads} \\\\\n",
      "        -o quant_${sample_id}\n",
      "    \"\"\"\n",
      "}\n",
      "\n",
      "workflow {\n",
      "    reads_ch = Channel\n",
      "                .fromPath(params.reads, checkIfExists: true)\n",
      "                .map{tuple(it.baseName, it)}\n",
      "\n",
      "    FASTQC(reads_ch)\n",
      "    INDEX(params.gentrome, params.decoys)\n",
      "    TRIMGALORE(reads_ch)\n",
      "    QUANT(INDEX.out, TRIMGALORE.out)\n",
      "}\n",
      "\n",
      "/* \n",
      " * completion handler\n",
      " */\n",
      "workflow.onComplete {\n",
      "\tlog.info ( workflow.success ? \"\\nSuccessfully completed!\\n\" : \"\\nOops .. something went wrong\\n\" )\n",
      "}\n"
     ]
    }
   ],
   "source": [
    "!cat main.nf"
   ]
  },
  {
   "cell_type": "code",
   "execution_count": 3,
   "id": "960091cc-5d65-48ba-a803-22632336f0c7",
   "metadata": {},
   "outputs": [
    {
     "name": "stdout",
     "output_type": "stream",
     "text": [
      "process.executor = 'slurm'\n",
      "conda.enabled = true\n",
      "conda.channels = 'seqera,conda-forge,bioconda,defaults'\n",
      "conda.cacheDir = '/home/fmbuga/nf-conda-envs'"
     ]
    }
   ],
   "source": [
    "!cat nextflow.config"
   ]
  },
  {
   "cell_type": "code",
   "execution_count": 4,
   "id": "7a373172-a32d-405d-a565-0b074c0d9bc3",
   "metadata": {},
   "outputs": [
    {
     "name": "stdout",
     "output_type": "stream",
     "text": [
      "N E X T F L O W  ~  version 23.10.0\n",
      "Launching `main.nf` [scruffy_mcclintock] DSL2 - revision: b4605da6b0\n",
      " R N A S E Q - N F   P I P E L I N E\n",
      " ===================================\n",
      " gentrome     : /home/fmbuga/scATAC/data/Itokawa22HSC/HSC_RNAseq/test/ref_fasta/gentrome.fa.gz\n",
      " reads        : /home/fmbuga/scATAC/data/Itokawa22HSC/HSC_RNAseq/00_fastq_raw/*\n",
      " outdir       : /home/fmbuga/scATAC/data/Itokawa22HSC/HSC_RNAseq/test/results\n",
      " \n",
      "[c8/1b7703] Submitted process > FASTQC (FASTQC on SRR13192301)\n",
      "[b8/30d755] Submitted process > FASTQC (FASTQC on SRR13192285)\n",
      "[89/fe041a] Submitted process > FASTQC (FASTQC on SRR13192302)\n",
      "[78/9d54cd] Submitted process > TRIMGALORE (TRIMGALORE on SRR13192285)\n",
      "[3c/26d95c] Submitted process > INDEX (gentrome)\n",
      "[50/34dfe3] Submitted process > TRIMGALORE (TRIMGALORE on SRR13192301)\n",
      "[08/3acb52] Submitted process > TRIMGALORE (TRIMGALORE on SRR13192302)\n",
      "[f2/48421c] Submitted process > TRIMGALORE (TRIMGALORE on SRR13192286)\n",
      "[cb/949e33] Submitted process > FASTQC (FASTQC on SRR13192286)\n",
      "[26/fdecb2] Submitted process > QUANT (QUANT on SRR13192285)\n",
      "[f1/c2df46] Submitted process > QUANT (QUANT on SRR13192286)\n",
      "[e1/cb06d9] Submitted process > QUANT (QUANT on SRR13192301)\n",
      "[6a/7a8acf] Submitted process > QUANT (QUANT on SRR13192302)\n",
      "\n",
      "Successfully completed!\n",
      "\n",
      "CPU times: user 37.2 s, sys: 7.63 s, total: 44.8 s\n",
      "Wall time: 41min 54s\n"
     ]
    }
   ],
   "source": [
    "%%time\n",
    "!nextflow run -resume \\\n",
    "    main.nf \\\n",
    "    -ansi-log false \\\n",
    "    -with-timeline \\\n",
    "    --reads \"/home/fmbuga/scATAC/data/Itokawa22HSC/HSC_RNAseq/00_fastq_raw/*\" "
   ]
  },
  {
   "cell_type": "code",
   "execution_count": 14,
   "id": "994fae7e-7cde-42a1-ba4c-f92b9fd92716",
   "metadata": {},
   "outputs": [
    {
     "data": {
      "text/html": [
       "\n",
       "        <iframe\n",
       "            width=\"800\"\n",
       "            height=\"600\"\n",
       "            src=\"timeline-20231212-1861773.html\"\n",
       "            frameborder=\"0\"\n",
       "            allowfullscreen\n",
       "            \n",
       "        ></iframe>\n",
       "        "
      ],
      "text/plain": [
       "<IPython.lib.display.IFrame at 0x2b8879181590>"
      ]
     },
     "execution_count": 14,
     "metadata": {},
     "output_type": "execute_result"
    }
   ],
   "source": [
    "# Import libraries for HTML visualization of timeline\n",
    "from IPython.display import IFrame\n",
    "IFrame(src='timeline-20231212-1861773.html', width=800, height=600)"
   ]
  },
  {
   "cell_type": "code",
   "execution_count": 5,
   "id": "0ac29d07-5220-41a6-a546-b3e91da927a3",
   "metadata": {},
   "outputs": [
    {
     "name": "stdout",
     "output_type": "stream",
     "text": [
      "\u001b[0m\u001b[38;5;27mquant_SRR13192285\u001b[0m/  \u001b[38;5;27mquant_SRR13192286\u001b[0m/  \u001b[38;5;27mquant_SRR13192301\u001b[0m/  \u001b[38;5;27mquant_SRR13192302\u001b[0m/\n"
     ]
    }
   ],
   "source": [
    "ls results/03_salmon_quant"
   ]
  },
  {
   "cell_type": "code",
   "execution_count": 6,
   "id": "72ac25d9-6f85-486b-9e26-75bbc3e397e7",
   "metadata": {},
   "outputs": [
    {
     "name": "stdout",
     "output_type": "stream",
     "text": [
      "Name\tLength\tEffectiveLength\tTPM\tNumReads\n",
      "ENSMUST00000193812.2\t1070\t819.000\t0.000000\t0.000\n",
      "ENSMUST00000082908.3\t110\t3.000\t0.000000\t0.000\n",
      "ENSMUST00000162897.2\t4153\t3902.000\t0.000000\t0.000\n",
      "ENSMUST00000159265.2\t2989\t2738.000\t0.000000\t0.000\n",
      "ENSMUST00000070533.5\t3634\t3383.000\t0.000000\t0.000\n",
      "ENSMUST00000192857.2\t480\t229.000\t0.000000\t0.000\n",
      "ENSMUST00000195335.2\t2819\t2568.000\t0.000000\t0.000\n",
      "ENSMUST00000192336.2\t2233\t1982.000\t0.000000\t0.000\n",
      "ENSMUST00000194099.2\t2309\t2058.000\t0.000000\t0.000\n",
      "cat: write error: Broken pipe\n"
     ]
    }
   ],
   "source": [
    "!cat results/03_salmon_quant/quant_SRR13192285/quant.sf | head"
   ]
  },
  {
   "cell_type": "code",
   "execution_count": 7,
   "id": "0fc9f11a-1d36-4ea9-914c-3ce5d1705f6d",
   "metadata": {},
   "outputs": [
    {
     "data": {
      "text/html": [
       "<div>\n",
       "<style scoped>\n",
       "    .dataframe tbody tr th:only-of-type {\n",
       "        vertical-align: middle;\n",
       "    }\n",
       "\n",
       "    .dataframe tbody tr th {\n",
       "        vertical-align: top;\n",
       "    }\n",
       "\n",
       "    .dataframe thead th {\n",
       "        text-align: right;\n",
       "    }\n",
       "</style>\n",
       "<table border=\"1\" class=\"dataframe\">\n",
       "  <thead>\n",
       "    <tr style=\"text-align: right;\">\n",
       "      <th></th>\n",
       "      <th>Name</th>\n",
       "      <th>Length</th>\n",
       "      <th>EffectiveLength</th>\n",
       "      <th>TPM</th>\n",
       "      <th>NumReads</th>\n",
       "    </tr>\n",
       "  </thead>\n",
       "  <tbody>\n",
       "    <tr>\n",
       "      <th>0</th>\n",
       "      <td>ENSMUST00000193812.2</td>\n",
       "      <td>1070</td>\n",
       "      <td>819.0</td>\n",
       "      <td>0.0</td>\n",
       "      <td>0.0</td>\n",
       "    </tr>\n",
       "    <tr>\n",
       "      <th>1</th>\n",
       "      <td>ENSMUST00000082908.3</td>\n",
       "      <td>110</td>\n",
       "      <td>3.0</td>\n",
       "      <td>0.0</td>\n",
       "      <td>0.0</td>\n",
       "    </tr>\n",
       "    <tr>\n",
       "      <th>2</th>\n",
       "      <td>ENSMUST00000162897.2</td>\n",
       "      <td>4153</td>\n",
       "      <td>3902.0</td>\n",
       "      <td>0.0</td>\n",
       "      <td>0.0</td>\n",
       "    </tr>\n",
       "    <tr>\n",
       "      <th>3</th>\n",
       "      <td>ENSMUST00000159265.2</td>\n",
       "      <td>2989</td>\n",
       "      <td>2738.0</td>\n",
       "      <td>0.0</td>\n",
       "      <td>0.0</td>\n",
       "    </tr>\n",
       "    <tr>\n",
       "      <th>4</th>\n",
       "      <td>ENSMUST00000070533.5</td>\n",
       "      <td>3634</td>\n",
       "      <td>3383.0</td>\n",
       "      <td>0.0</td>\n",
       "      <td>0.0</td>\n",
       "    </tr>\n",
       "  </tbody>\n",
       "</table>\n",
       "</div>"
      ],
      "text/plain": [
       "                   Name  Length  EffectiveLength  TPM  NumReads\n",
       "0  ENSMUST00000193812.2    1070            819.0  0.0       0.0\n",
       "1  ENSMUST00000082908.3     110              3.0  0.0       0.0\n",
       "2  ENSMUST00000162897.2    4153           3902.0  0.0       0.0\n",
       "3  ENSMUST00000159265.2    2989           2738.0  0.0       0.0\n",
       "4  ENSMUST00000070533.5    3634           3383.0  0.0       0.0"
      ]
     },
     "execution_count": 7,
     "metadata": {},
     "output_type": "execute_result"
    }
   ],
   "source": [
    "import pandas as pd\n",
    "\n",
    "pd.read_csv('results/03_salmon_quant/quant_SRR13192285/quant.sf', sep='\\t').head()"
   ]
  },
  {
   "cell_type": "code",
   "execution_count": 10,
   "id": "654f3d3f-abfe-46f6-8131-c5642dd72ac3",
   "metadata": {},
   "outputs": [
    {
     "name": "stdout",
     "output_type": "stream",
     "text": [
      "\n",
      "  \u001b[91m///\u001b[0m \u001b]8;id=758447;https://multiqc.info\u001b\\\u001b[1mMultiQC\u001b[0m\u001b]8;;\u001b\\ 🔍 \u001b[2m| v1.18\u001b[0m\n",
      "\n",
      "\u001b[32m[2023-12-13 05:45:42]\u001b[0m \u001b[34mmultiqc                                           \u001b[0m \u001b[1;30m[DEBUG  ]\u001b[0m  \u001b[2mThis is MultiQC v1.18\u001b[0m\n",
      "\u001b[32m[2023-12-13 05:45:42]\u001b[0m \u001b[34mmultiqc                                           \u001b[0m \u001b[1;30m[DEBUG  ]\u001b[0m  \u001b[2mCommand used: /home/fmbuga/.conda/envs/wxs-pipeline/bin/multiqc --outdir results/04_multiqc --verbose work/\u001b[0m\n",
      "\u001b[32m[2023-12-13 05:45:42]\u001b[0m \u001b[34mmultiqc                                           \u001b[0m \u001b[1;30m[DEBUG  ]\u001b[0m  \u001b[2mLatest MultiQC version is v1.17\u001b[0m\n",
      "\u001b[32m[2023-12-13 05:45:42]\u001b[0m \u001b[34mmultiqc                                           \u001b[0m \u001b[1;30m[DEBUG  ]\u001b[0m  \u001b[2mWorking dir : /home/fmbuga/scATAC/data/Itokawa22HSC/HSC_RNAseq/test\u001b[0m\n",
      "\u001b[32m[2023-12-13 05:45:42]\u001b[0m \u001b[34mmultiqc                                           \u001b[0m \u001b[1;30m[DEBUG  ]\u001b[0m  \u001b[2mTemplate    : default\u001b[0m\n",
      "\u001b[32m[2023-12-13 05:45:42]\u001b[0m \u001b[34mmultiqc                                           \u001b[0m \u001b[1;30m[DEBUG  ]\u001b[0m  \u001b[2mRunning Python 3.9.18 | packaged by conda-forge | (main, Aug 30 2023, 03:49:32)  [GCC 12.3.0]\u001b[0m\n",
      "\u001b[32m[2023-12-13 05:45:42]\u001b[0m \u001b[34mmultiqc                                           \u001b[0m \u001b[1;30m[DEBUG  ]\u001b[0m  \u001b[2mAnalysing modules: custom_content, ccs, ngsderive, purple, conpair, lima, peddy, somalier, methylQA, mosdepth, phantompeakqualtools, qualimap, preseq, hifiasm, quast, qorts, rna_seqc, rockhopper, rsem, rseqc, busco, bustools, goleft_indexcov, gffcompare, disambiguate, supernova, deeptools, sargasso, verifybamid, mirtrace, happy, mirtop, sambamba, gopeaks, homer, hops, macs2, theta2, snpeff, gatk, htseq, bcftools, featureCounts, fgbio, dragen, dragen_fastqc, dedup, pbmarkdup, damageprofiler, mapdamage, biobambam2, jcvi, mtnucratio, picard, vep, bakta, prokka, qc3C, nanostat, samblaster, samtools, sexdeterrmine, seqera_cli, eigenstratdatabasetools, bamtools, jellyfish, vcftools, longranger, stacks, varscan2, snippy, umitools, truvari, bbmap, bismark, biscuit, diamond, hicexplorer, hicup, hicpro, salmon, kallisto, slamdunk, star, hisat2, tophat, bowtie2, bowtie1, cellranger, snpsplit, odgi, pangolin, nextclade, freyja, humid, kat, leehom, librarian, adapterRemoval, bbduk, clipandmerge, cutadapt, flexbar, sourmash, kaiju, bracken, kraken, malt, motus, trimmomatic, sickle, skewer, sortmerna, biobloomtools, fastq_screen, afterqc, fastp, fastqc, filtlong, prinseqplusplus, pychopper, porechop, pycoqc, minionqc, anglerfish, multivcfanalyzer, clusterflow, checkqc, bcl2fastq, bclconvert, interop, ivar, flash, seqyclean, optitype, whatshap, xenome, xengsort\u001b[0m\n",
      "\u001b[32m[2023-12-13 05:45:42]\u001b[0m \u001b[34mmultiqc                                           \u001b[0m \u001b[1;30m[DEBUG  ]\u001b[0m  \u001b[2mUsing temporary directory for creating report: /tmp/tmp2hp620id\u001b[0m\n",
      "\u001b[32m[2023-12-13 05:45:42]\u001b[0m \u001b[34mmultiqc                                           \u001b[0m \u001b[1;30m[INFO   ]\u001b[0m  Search path : /home/fmbuga/scATAC/data/Itokawa22HSC/HSC_RNAseq/test/work\n",
      "\u001b[2K\u001b[34m|\u001b[0m         \u001b[34msearching\u001b[0m | \u001b[90m━━━━━━━━━━━━━━━━━━━━━━━━━━━━━━━━━━━━━━━━\u001b[0m \u001b[35m100%\u001b[0m \u001b[32m277/277\u001b[0m  0m[0m  \n",
      "\u001b[?25h\u001b[32m[2023-12-13 05:45:45]\u001b[0m \u001b[34mmultiqc                                           \u001b[0m \u001b[1;30m[DEBUG  ]\u001b[0m  \u001b[2mSummary of files that were skipped by the search: [skipped_file_contents_search_errors: 1335] // [skipped_module_specific_max_filesize: 685] // [skipped_no_match: 249] // [skipped_filesize_limit: 36] // [skipped_ignore_pattern: 16]\u001b[0m\n",
      "\u001b[32m[2023-12-13 05:45:50]\u001b[0m \u001b[34mmultiqc.plots.bargraph                            \u001b[0m \u001b[1;30m[DEBUG  ]\u001b[0m  \u001b[2mUsing matplotlib version 3.3.2\u001b[0m\n",
      "\u001b[32m[2023-12-13 05:45:50]\u001b[0m \u001b[34mmultiqc.plots.linegraph                           \u001b[0m \u001b[1;30m[DEBUG  ]\u001b[0m  \u001b[2mUsing matplotlib version 3.3.2\u001b[0m\n",
      "\u001b[32m[2023-12-13 05:45:50]\u001b[0m \u001b[34mmultiqc                                           \u001b[0m \u001b[1;30m[DEBUG  ]\u001b[0m  \u001b[2mNo samples found: custom_content\u001b[0m\n",
      "\u001b[32m[2023-12-13 05:45:50]\u001b[0m \u001b[34mmultiqc.modules.salmon.salmon                     \u001b[0m \u001b[1;30m[INFO   ]\u001b[0m  Found 4 meta reports\n",
      "\u001b[32m[2023-12-13 05:45:50]\u001b[0m \u001b[34mmultiqc.modules.salmon.salmon                     \u001b[0m \u001b[1;30m[INFO   ]\u001b[0m  Found 4 fragment length distributions\n",
      "\u001b[32m[2023-12-13 05:45:50]\u001b[0m \u001b[34mmultiqc.modules.cutadapt.cutadapt                 \u001b[0m \u001b[1;30m[DEBUG  ]\u001b[0m  \u001b[2mDuplicate sample name found! Overwriting: SRR13192285\u001b[0m\n",
      "\u001b[32m[2023-12-13 05:45:50]\u001b[0m \u001b[34mmultiqc.modules.cutadapt.cutadapt                 \u001b[0m \u001b[1;30m[DEBUG  ]\u001b[0m  \u001b[2mDuplicate sample name found! Overwriting: SRR13192285\u001b[0m\n",
      "\u001b[32m[2023-12-13 05:45:50]\u001b[0m \u001b[34mmultiqc.modules.cutadapt.cutadapt                 \u001b[0m \u001b[1;30m[DEBUG  ]\u001b[0m  \u001b[2mDuplicate sample name found! Overwriting: SRR13192286\u001b[0m\n",
      "\u001b[32m[2023-12-13 05:45:50]\u001b[0m \u001b[34mmultiqc.modules.cutadapt.cutadapt                 \u001b[0m \u001b[1;30m[DEBUG  ]\u001b[0m  \u001b[2mDuplicate sample name found! Overwriting: SRR13192286\u001b[0m\n",
      "\u001b[32m[2023-12-13 05:45:50]\u001b[0m \u001b[34mmultiqc.modules.cutadapt.cutadapt                 \u001b[0m \u001b[1;30m[DEBUG  ]\u001b[0m  \u001b[2mDuplicate sample name found! Overwriting: SRR13192302\u001b[0m\n",
      "\u001b[32m[2023-12-13 05:45:50]\u001b[0m \u001b[34mmultiqc.modules.cutadapt.cutadapt                 \u001b[0m \u001b[1;30m[DEBUG  ]\u001b[0m  \u001b[2mDuplicate sample name found! Overwriting: SRR13192302\u001b[0m\n",
      "\u001b[32m[2023-12-13 05:45:50]\u001b[0m \u001b[34mmultiqc.modules.cutadapt.cutadapt                 \u001b[0m \u001b[1;30m[DEBUG  ]\u001b[0m  \u001b[2mDuplicate sample name found! Overwriting: SRR13192301\u001b[0m\n",
      "\u001b[32m[2023-12-13 05:45:50]\u001b[0m \u001b[34mmultiqc.modules.cutadapt.cutadapt                 \u001b[0m \u001b[1;30m[DEBUG  ]\u001b[0m  \u001b[2mDuplicate sample name found! Overwriting: SRR13192301\u001b[0m\n",
      "\u001b[32m[2023-12-13 05:45:50]\u001b[0m \u001b[34mmultiqc.modules.cutadapt.cutadapt                 \u001b[0m \u001b[1;30m[INFO   ]\u001b[0m  Found 4 reports\n",
      "\u001b[32m[2023-12-13 05:45:50]\u001b[0m \u001b[34mmultiqc.modules.fastqc.fastqc                     \u001b[0m \u001b[1;30m[DEBUG  ]\u001b[0m  \u001b[2mSkipping 'SRR13192286_fastqc.zip' as already parsed 'SRR13192286'\u001b[0m\n",
      "\u001b[32m[2023-12-13 05:45:50]\u001b[0m \u001b[34mmultiqc.modules.fastqc.fastqc                     \u001b[0m \u001b[1;30m[DEBUG  ]\u001b[0m  \u001b[2mSkipping 'SRR13192302_fastqc.zip' as already parsed 'SRR13192302'\u001b[0m\n",
      "\u001b[32m[2023-12-13 05:45:50]\u001b[0m \u001b[34mmultiqc.modules.fastqc.fastqc                     \u001b[0m \u001b[1;30m[DEBUG  ]\u001b[0m  \u001b[2mDuplicate sample name found! Overwriting: SRR13192301\u001b[0m\n",
      "\u001b[32m[2023-12-13 05:45:50]\u001b[0m \u001b[34mmultiqc.modules.fastqc.fastqc                     \u001b[0m \u001b[1;30m[DEBUG  ]\u001b[0m  \u001b[2mSkipping 'SRR13192285_fastqc.zip' as already parsed 'SRR13192285'\u001b[0m\n",
      "\u001b[32m[2023-12-13 05:45:50]\u001b[0m \u001b[34mmultiqc.modules.fastqc.fastqc                     \u001b[0m \u001b[1;30m[INFO   ]\u001b[0m  Found 4 reports\n",
      "\u001b[32m[2023-12-13 05:45:50]\u001b[0m \u001b[34mmultiqc.utils.software_versions                   \u001b[0m \u001b[1;30m[DEBUG  ]\u001b[0m  \u001b[2mReading software versions from config.software_versions\u001b[0m\n",
      "\u001b[32m[2023-12-13 05:45:50]\u001b[0m \u001b[34mmultiqc                                           \u001b[0m \u001b[1;30m[DEBUG  ]\u001b[0m  \u001b[2mCompressing plot data\u001b[0m\n",
      "\u001b[32m[2023-12-13 05:45:51]\u001b[0m \u001b[34mmultiqc                                           \u001b[0m \u001b[1;30m[INFO   ]\u001b[0m  Report      : results/04_multiqc/multiqc_report.html\n",
      "\u001b[32m[2023-12-13 05:45:51]\u001b[0m \u001b[34mmultiqc                                           \u001b[0m \u001b[1;30m[INFO   ]\u001b[0m  Data        : results/04_multiqc/multiqc_data\n",
      "\u001b[32m[2023-12-13 05:45:51]\u001b[0m \u001b[34mmultiqc                                           \u001b[0m \u001b[1;30m[DEBUG  ]\u001b[0m  \u001b[2mMoving data file from '/tmp/tmp2hp620id/multiqc_data' to 'results/04_multiqc/multiqc_data'\u001b[0m\n",
      "\u001b[32m[2023-12-13 05:45:51]\u001b[0m \u001b[34mmultiqc                                           \u001b[0m \u001b[1;30m[DEBUG  ]\u001b[0m  \u001b[2mFull report path: /home/fmbuga/scATAC/data/Itokawa22HSC/HSC_RNAseq/test/results/04_multiqc/multiqc_report.html\u001b[0m\n",
      "\u001b[32m[2023-12-13 05:45:51]\u001b[0m \u001b[34mmultiqc                                           \u001b[0m \u001b[1;30m[INFO   ]\u001b[0m  MultiQC complete\n"
     ]
    }
   ],
   "source": [
    "!multiqc \\\n",
    "    --outdir results/04_multiqc \\\n",
    "    --verbose \\\n",
    "    work/"
   ]
  },
  {
   "cell_type": "code",
   "execution_count": 15,
   "id": "f871eecd-9a23-44d6-ad6c-a1c46289da39",
   "metadata": {},
   "outputs": [
    {
     "data": {
      "text/html": [
       "\n",
       "        <iframe\n",
       "            width=\"1200\"\n",
       "            height=\"900\"\n",
       "            src=\"results/04_multiqc/multiqc_report.html\"\n",
       "            frameborder=\"0\"\n",
       "            allowfullscreen\n",
       "            \n",
       "        ></iframe>\n",
       "        "
      ],
      "text/plain": [
       "<IPython.lib.display.IFrame at 0x2ab3a9c1af10>"
      ]
     },
     "execution_count": 15,
     "metadata": {},
     "output_type": "execute_result"
    }
   ],
   "source": [
    "# Import libraries for HTML visualization of multiqc report\n",
    "from IPython.display import IFrame\n",
    "multiqc_report = \"/home/fmbuga/scATAC/data/Itokawa22HSC/HSC_RNAseq/test/results/04_multiqc/multiqc_report.html\"\n",
    "IFrame(src=\"results/04_multiqc/multiqc_report.html\", width=1200, height=900)"
   ]
  },
  {
   "cell_type": "markdown",
   "id": "c07f52a1-1eec-46a2-835d-c621d6a7a470",
   "metadata": {},
   "source": [
    "---\n",
    "\n",
    "## NEXT: \n",
    "- R/Bioconductor analysis of quant.sf files"
   ]
  }
 ],
 "metadata": {
  "kernelspec": {
   "display_name": "Python 3 (ipykernel)",
   "language": "python",
   "name": "python3"
  },
  "language_info": {
   "codemirror_mode": {
    "name": "ipython",
    "version": 3
   },
   "file_extension": ".py",
   "mimetype": "text/x-python",
   "name": "python",
   "nbconvert_exporter": "python",
   "pygments_lexer": "ipython3",
   "version": "3.9.18"
  }
 },
 "nbformat": 4,
 "nbformat_minor": 5
}
